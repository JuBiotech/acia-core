{
 "cells": [
  {
   "cell_type": "markdown",
   "id": "059c4ca1-172e-49a2-8fb6-856d7f4d5696",
   "metadata": {},
   "source": [
    "# Welcome to the Growth Rate Analysis\n",
    "\n",
    "In this script we will analyse the growth rate $\\mu$ of the total cell area in log space. Step by step (4 steps in total) you will be guided to obtain your final analysis results. Have fun 🚀"
   ]
  },
  {
   "cell_type": "markdown",
   "id": "2d84ee79-df2e-4f54-a625-10a1f588824e",
   "metadata": {},
   "source": [
    "## First Step\n",
    "\n",
    "Please enter the omero **image id** for the cultivation you want to analyze. Also provide your current **username**."
   ]
  },
  {
   "cell_type": "code",
   "execution_count": null,
   "id": "9d990a01-d178-495d-b879-c049837bb6ac",
   "metadata": {},
   "outputs": [],
   "source": [
    "# specify the omero image id\n",
    "image_id = 260\n",
    "\n",
    "# sepcify your username\n",
    "username = 'root'\n"
   ]
  },
  {
   "cell_type": "markdown",
   "id": "7ac1dd27-9229-406a-ba7d-69438cb4ca65",
   "metadata": {},
   "source": [
    "## Second Step\n",
    "\n",
    "You will be asked to enter your password and we perform the analysis on the segmentation data in omero. This may take a while depending on the length of the image time-lapse. You  will get a progressbar though 😎 "
   ]
  },
  {
   "cell_type": "code",
   "execution_count": null,
   "id": "1744d49f",
   "metadata": {},
   "outputs": [],
   "source": [
    "import getpass\n",
    "import logging\n",
    "from omero.gateway import BlitzGateway\n",
    "import matplotlib.pyplot as plt\n",
    "import pandas as pd\n",
    "import numpy as np\n",
    "import seaborn as sns\n",
    "import os.path as osp\n",
    "import os\n",
    "from tqdm.contrib.concurrent import process_map\n",
    "\n",
    "from acia.base import Contour, Overlay\n",
    "from acia.segm.omero.storer import OmeroRoISource\n",
    "\n",
    "from acia.segm.omero.utils import list_images_in_dataset\n",
    "from acia.segm.output import VideoExporter\n",
    "\n",
    "from shapely.geometry import Polygon\n",
    "\n",
    "def pairwise_distances(points):\n",
    "    distances = []\n",
    "\n",
    "    if len(points) == 0:\n",
    "        return distances\n",
    "\n",
    "    for a,b in zip(points, points[1:]):\n",
    "        distances.append(np.linalg.norm(a-b))\n",
    "\n",
    "    return distances\n",
    "\n",
    "def length_and_area(contour: Contour):\n",
    "    polygon = Polygon(contour.coordinates)\n",
    "    #centerline = Centerline(polygon)\n",
    "    length = np.max(pairwise_distances(np.array(polygon.minimum_rotated_rectangle.exterior.coords)))\n",
    "    return length, polygon.area\n",
    "\n",
    "def compute_overlay_stats(overlay: Overlay):\n",
    "    cell_count = len(overlay)\n",
    "\n",
    "    lengths = []\n",
    "    areas = []\n",
    "    for cont in overlay:\n",
    "        length, area = length_and_area(cont)\n",
    "        lengths.append(length)\n",
    "        areas.append(area)\n",
    "\n",
    "    return cell_count, lengths, areas\n",
    "\n",
    "if __name__ == '__main__':\n",
    "\n",
    "    basepath = osp.join('results', 'cyano')\n",
    "    os.makedirs(basepath, exist_ok=True)\n",
    "\n",
    "    serverUrl = 'omero'\n",
    "    password = getpass.getpass(f'Password for {username}@{serverUrl}: ')\n",
    "\n",
    "    omero_cred = {\n",
    "        'username': username,\n",
    "        'serverUrl': serverUrl,\n",
    "        'password': password\n",
    "    }\n",
    "\n",
    "    result = {}\n",
    "\n",
    "    logging.info(\"Connect to omero...\")\n",
    "    ors = OmeroRoISource(image_id, **omero_cred, scale = \"MICROMETER\")\n",
    "\n",
    "    cell_counts = []\n",
    "    all_lengths = []\n",
    "    all_areas = []\n",
    "\n",
    "    result = process_map(compute_overlay_stats, ors, max_workers=1, chunksize=5)\n",
    "    for frame_result in result:\n",
    "        cell_count, lengths, areas = frame_result\n",
    "\n",
    "        cell_counts.append(cell_count)\n",
    "        all_lengths.append(lengths)\n",
    "        all_areas.append(areas)"
   ]
  },
  {
   "cell_type": "markdown",
   "id": "8fc70656-27dc-4695-8c54-fe6c941ee508",
   "metadata": {},
   "source": [
    "## Third Step\n",
    "\n",
    "Make sure your data is reasonable. We plot cell count and total cell area development over time to check."
   ]
  },
  {
   "cell_type": "code",
   "execution_count": null,
   "id": "591b4074",
   "metadata": {},
   "outputs": [],
   "source": [
    "fig, ax = plt.subplots(1, 2, figsize=(16, 6))\n",
    "ax[0].set_yscale('log')\n",
    "ax[0].set_xlabel('Frame')\n",
    "ax[0].set_ylabel('Cell Count (log-scale)')\n",
    "\n",
    "ax[0].plot(cell_counts)\n",
    "\n",
    "plt.title('Total cell area over time')\n",
    "ax[1].set_yscale('log')\n",
    "ax[1].set_xlabel('Frame')\n",
    "ax[1].set_ylabel(r'Total Cell Area [$\\mu m^2$]')\n",
    "ax[1].grid(True)\n",
    "\n",
    "total_frame_areas = np.array([np.sum(frame_areas) for frame_areas in all_areas])\n",
    "ax[1].plot(total_frame_areas)\n",
    "\n"
   ]
  },
  {
   "cell_type": "markdown",
   "id": "e7f64159-efa7-4299-a6ab-2cafb36391fd",
   "metadata": {},
   "source": [
    "## Fourth Step: Select estimation range and get your results\n",
    "\n",
    "Now you must specify the lower and upper frame where you want to estimate the growth rate. Then the growth rate will be estimated and the linear fit is visualized alongside the total log area."
   ]
  },
  {
   "cell_type": "code",
   "execution_count": null,
   "id": "036e0ff4-5318-4a68-bfac-befd1a321f01",
   "metadata": {},
   "outputs": [],
   "source": [
    "measure_frames = range(20, 30+1)  #measure in frames 20 to 30"
   ]
  },
  {
   "cell_type": "code",
   "execution_count": null,
   "id": "4e082f38",
   "metadata": {},
   "outputs": [],
   "source": [
    "ln_tot_frame_areas = np.log(total_frame_areas)\n",
    "\n",
    "linear_part = list(measure_frames)\n",
    "print(linear_part)\n",
    "\n",
    "linear_part_x = np.array(linear_part)[:,None]\n",
    "\n",
    "\n",
    "from sklearn.linear_model import LinearRegression\n",
    "reg = LinearRegression().fit(linear_part_x, ln_tot_frame_areas[linear_part])\n",
    "print(reg.coef_)\n",
    "print(reg.intercept_)\n",
    "r_squared = reg.score(linear_part_x, ln_tot_frame_areas[linear_part])\n",
    "\n",
    "growth_rates = total_frame_areas[1:] - total_frame_areas[0:-1]\n",
    "plt.plot(ln_tot_frame_areas, label='log total area')\n",
    "plt.plot(linear_part_x, reg.predict(linear_part_x), label='linear fit')\n",
    "plt.legend()"
   ]
  },
  {
   "cell_type": "code",
   "execution_count": null,
   "id": "c64d293d",
   "metadata": {},
   "outputs": [],
   "source": [
    "from IPython.display import display, Markdown, Latex\n",
    "display(Markdown(f\"\"\"\n",
    "We estimated the growth rate in frames {linear_part[0]} to {linear_part[-1]} using a [linear regression](https://scikit-learn.org/stable/modules/generated/sklearn.linear_model.LinearRegression.html):\n",
    "- growt rate $\\mu$: {reg.coef_[0]:.4f}\n",
    "- Coefficient of determination: $R^2$: {r_squared:.4f}\"\"\"))"
   ]
  }
 ],
 "metadata": {
  "kernelspec": {
   "display_name": "Python 3 (ipykernel)",
   "language": "python",
   "name": "python3"
  },
  "language_info": {
   "codemirror_mode": {
    "name": "ipython",
    "version": 3
   },
   "file_extension": ".py",
   "mimetype": "text/x-python",
   "name": "python",
   "nbconvert_exporter": "python",
   "pygments_lexer": "ipython3",
   "version": "3.9.5"
  }
 },
 "nbformat": 4,
 "nbformat_minor": 5
}
